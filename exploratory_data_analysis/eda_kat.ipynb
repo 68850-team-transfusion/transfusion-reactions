{
 "cells": [
  {
   "cell_type": "markdown",
   "metadata": {},
   "source": [
    "# Questions\n",
    "1. What tables and features differentiate blood-transfusion-related and non-blood-transfusion-related admittances?\n",
    "2. How many hospital admittances in MIMIC-III are for blood transfusions?\n",
    "3. Break down these stats by race, by gender, by other demographics\n",
    "4. How common is it for a blood transfusion to be cut short?\n",
    "5. What's the average/most extreme body temp difference between the start of transfusion end of transfusion? After 2 hrs? After 4? 8? 24?\n",
    "6. Characterise the clinicians notes for admittances that were for blood transfusions."
   ]
  },
  {
   "cell_type": "code",
   "execution_count": 8,
   "metadata": {},
   "outputs": [],
   "source": [
    "from dotenv import load_dotenv\n",
    "import os\n",
    "from google.cloud import bigquery\n",
    "\n",
    "\n",
    "load_dotenv()\n",
    "query_path = os.environ.get('BASE_QUERY_PATH')\n",
    "client = bigquery.Client(os.environ.get('BIGQUERY_PROJECT_NAME'))"
   ]
  },
  {
   "cell_type": "markdown",
   "metadata": {},
   "source": [
    "## Question 1: What tables and features differentiate blood-transfusion-related and non-blood-transfusion-related admittances?\n"
   ]
  },
  {
   "cell_type": "markdown",
   "metadata": {},
   "source": [
    "Potentially relevant tables:\n",
    "* INPUTEVENTS_CV, INPUTEVENTS_MV, OUTPUTEVENTS: https://mimic.mit.edu/docs/iii/about/io/ \n",
    "* chartevents, datetimeevents, procedureevents_mv, services\n",
    "\n",
    "NB: Timeshifting - https://mimic.mit.edu/docs/iii/about/time/#date-shifting\n",
    "* Time of day, Day of week, and season(winter, spring, summer, fall) preserved\n",
    "* year, exact day of month, patient overlap in ICU not preserved\n",
    "\n",
    "NB: MIMIC Schema - https://mit-lcp.github.io/mimic-schema-spy/index.html \n"
   ]
  },
  {
   "cell_type": "code",
   "execution_count": 9,
   "metadata": {
    "vscode": {
     "languageId": "ruby"
    }
   },
   "outputs": [
    {
     "name": "stdout",
     "output_type": "stream",
     "text": [
      "  age_group gender  NumberOfPatients\n",
      "0       >89      F              1294\n",
      "1     adult      F             15476\n",
      "2   neonate      F              3629\n",
      "3     adult      M             21179\n",
      "4       >89      M               697\n",
      "5   neonate      M              4245\n"
     ]
    },
    {
     "name": "stderr",
     "output_type": "stream",
     "text": [
      "/home/kmorhun/.pyenv/versions/3.12.7/envs/transfusion/lib/python3.12/site-packages/google/cloud/bigquery/table.py:1727: UserWarning: BigQuery Storage module not found, fetch data with the REST endpoint instead.\n",
      "  warnings.warn(\n"
     ]
    }
   ],
   "source": [
    "# get the types of items that can be administered to a patient\n",
    "with open(f\"{query_path}/types_of_items.sql\", 'r') as file:\n",
    "    query = file.read()\n",
    "\n",
    "results = client.query(query).to_dataframe()\n",
    "print(results)"
   ]
  }
 ],
 "metadata": {
  "kernelspec": {
   "display_name": "transfusion",
   "language": "python",
   "name": "python3"
  },
  "language_info": {
   "codemirror_mode": {
    "name": "ipython",
    "version": 3
   },
   "file_extension": ".py",
   "mimetype": "text/x-python",
   "name": "python",
   "nbconvert_exporter": "python",
   "pygments_lexer": "ipython3",
   "version": "3.12.7"
  }
 },
 "nbformat": 4,
 "nbformat_minor": 2
}
