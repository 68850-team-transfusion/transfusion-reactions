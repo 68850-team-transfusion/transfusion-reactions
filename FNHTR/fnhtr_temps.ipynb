{
 "cells": [
  {
   "cell_type": "code",
   "execution_count": 1,
   "metadata": {},
   "outputs": [],
   "source": [
    "import os\n",
    "import pandas as pd\n",
    "import numpy as np\n",
    "from dotenv import load_dotenv\n",
    "from google.cloud import bigquery\n",
    "pd.set_option('display.max_rows', 100)    # Show all rows\n",
    "\n",
    "\n",
    "\n",
    "load_dotenv()\n",
    "query_path = os.environ.get('BASE_QUERY_PATH')\n",
    "client = bigquery.Client(os.environ.get('BIGQUERY_PROJECT_NAME'))\n",
    "\n"
   ]
  },
  {
   "cell_type": "code",
   "execution_count": 2,
   "metadata": {},
   "outputs": [
    {
     "name": "stdout",
     "output_type": "stream",
     "text": [
      "phys-439706\n"
     ]
    }
   ],
   "source": [
    "print(os.environ.get('BIGQUERY_PROJECT_NAME'))\n"
   ]
  },
  {
   "cell_type": "code",
   "execution_count": 3,
   "metadata": {},
   "outputs": [
    {
     "name": "stderr",
     "output_type": "stream",
     "text": [
      "/home/tyx1999120755/.pyenv/versions/3.12.7/envs/transfusion/lib/python3.12/site-packages/google/cloud/bigquery/table.py:1727: UserWarning: BigQuery Storage module not found, fetch data with the REST endpoint instead.\n",
      "  warnings.warn(\n"
     ]
    },
    {
     "data": {
      "text/html": [
       "<div>\n",
       "<style scoped>\n",
       "    .dataframe tbody tr th:only-of-type {\n",
       "        vertical-align: middle;\n",
       "    }\n",
       "\n",
       "    .dataframe tbody tr th {\n",
       "        vertical-align: top;\n",
       "    }\n",
       "\n",
       "    .dataframe thead th {\n",
       "        text-align: right;\n",
       "    }\n",
       "</style>\n",
       "<table border=\"1\" class=\"dataframe\">\n",
       "  <thead>\n",
       "    <tr style=\"text-align: right;\">\n",
       "      <th></th>\n",
       "      <th>itemid</th>\n",
       "      <th>temperature_label</th>\n",
       "      <th>unique_patients</th>\n",
       "      <th>total_measurements</th>\n",
       "      <th>avg_temperature</th>\n",
       "      <th>min_temperature</th>\n",
       "      <th>max_temperature</th>\n",
       "    </tr>\n",
       "  </thead>\n",
       "  <tbody>\n",
       "    <tr>\n",
       "      <th>0</th>\n",
       "      <td>223761</td>\n",
       "      <td>Temperature Fahrenheit</td>\n",
       "      <td>17498</td>\n",
       "      <td>522143</td>\n",
       "      <td>98.40797</td>\n",
       "      <td>-99.9</td>\n",
       "      <td>9637.0</td>\n",
       "    </tr>\n",
       "    <tr>\n",
       "      <th>1</th>\n",
       "      <td>223762</td>\n",
       "      <td>Temperature Celsius</td>\n",
       "      <td>2181</td>\n",
       "      <td>74144</td>\n",
       "      <td>37.32990</td>\n",
       "      <td>-3.0</td>\n",
       "      <td>376.5</td>\n",
       "    </tr>\n",
       "  </tbody>\n",
       "</table>\n",
       "</div>"
      ],
      "text/plain": [
       "   itemid       temperature_label  unique_patients  total_measurements  \\\n",
       "0  223761  Temperature Fahrenheit            17498              522143   \n",
       "1  223762     Temperature Celsius             2181               74144   \n",
       "\n",
       "   avg_temperature  min_temperature  max_temperature  \n",
       "0         98.40797            -99.9           9637.0  \n",
       "1         37.32990             -3.0            376.5  "
      ]
     },
     "execution_count": 3,
     "metadata": {},
     "output_type": "execute_result"
    }
   ],
   "source": [
    "# get the types of items that can be administered to a patient\n",
    "\n",
    "with open(f\"{query_path}/FNHTR/all_temps_ids.sql\", 'r') as file:\n",
    "    temps_reads = file.read()\n",
    "\n",
    "temp_result = client.query(temps_reads).to_dataframe()\n",
    "temp_result\n",
    "\n",
    "\n"
   ]
  },
  {
   "cell_type": "code",
   "execution_count": 5,
   "metadata": {},
   "outputs": [
    {
     "name": "stderr",
     "output_type": "stream",
     "text": [
      "/home/tyx1999120755/.pyenv/versions/3.12.7/envs/transfusion/lib/python3.12/site-packages/google/cloud/bigquery/table.py:1727: UserWarning: BigQuery Storage module not found, fetch data with the REST endpoint instead.\n",
      "  warnings.warn(\n"
     ]
    },
    {
     "data": {
      "text/html": [
       "<div>\n",
       "<style scoped>\n",
       "    .dataframe tbody tr th:only-of-type {\n",
       "        vertical-align: middle;\n",
       "    }\n",
       "\n",
       "    .dataframe tbody tr th {\n",
       "        vertical-align: top;\n",
       "    }\n",
       "\n",
       "    .dataframe thead th {\n",
       "        text-align: right;\n",
       "    }\n",
       "</style>\n",
       "<table border=\"1\" class=\"dataframe\">\n",
       "  <thead>\n",
       "    <tr style=\"text-align: right;\">\n",
       "      <th></th>\n",
       "      <th>unique_patients_a</th>\n",
       "      <th>unique_patients_b</th>\n",
       "      <th>overlapping_subjects</th>\n",
       "    </tr>\n",
       "  </thead>\n",
       "  <tbody>\n",
       "    <tr>\n",
       "      <th>0</th>\n",
       "      <td>17498</td>\n",
       "      <td>2181</td>\n",
       "      <td>2058</td>\n",
       "    </tr>\n",
       "  </tbody>\n",
       "</table>\n",
       "</div>"
      ],
      "text/plain": [
       "   unique_patients_a  unique_patients_b  overlapping_subjects\n",
       "0              17498               2181                  2058"
      ]
     },
     "execution_count": 5,
     "metadata": {},
     "output_type": "execute_result"
    }
   ],
   "source": [
    "# get the types of items that can be administered to a patient\n",
    "\n",
    "with open(f\"{query_path}/FNHTR/temps_overlap.sql\", 'r') as file:\n",
    "    overlap_detection = file.read()\n",
    "\n",
    "overlap_detection_result = client.query(overlap_detection).to_dataframe()\n",
    "overlap_detection_result\n",
    "\n",
    "\n",
    "\n"
   ]
  },
  {
   "cell_type": "code",
   "execution_count": 6,
   "metadata": {},
   "outputs": [
    {
     "name": "stderr",
     "output_type": "stream",
     "text": [
      "/home/tyx1999120755/.pyenv/versions/3.12.7/envs/transfusion/lib/python3.12/site-packages/google/cloud/bigquery/table.py:1727: UserWarning: BigQuery Storage module not found, fetch data with the REST endpoint instead.\n",
      "  warnings.warn(\n"
     ]
    },
    {
     "data": {
      "text/html": [
       "<div>\n",
       "<style scoped>\n",
       "    .dataframe tbody tr th:only-of-type {\n",
       "        vertical-align: middle;\n",
       "    }\n",
       "\n",
       "    .dataframe tbody tr th {\n",
       "        vertical-align: top;\n",
       "    }\n",
       "\n",
       "    .dataframe thead th {\n",
       "        text-align: right;\n",
       "    }\n",
       "</style>\n",
       "<table border=\"1\" class=\"dataframe\">\n",
       "  <thead>\n",
       "    <tr style=\"text-align: right;\">\n",
       "      <th></th>\n",
       "      <th>linkorderid</th>\n",
       "      <th>subject_id</th>\n",
       "      <th>hadm_id</th>\n",
       "      <th>icustay_id</th>\n",
       "      <th>transfusion_starttime</th>\n",
       "      <th>temp_recorded_time</th>\n",
       "      <th>temperature_fahrenheit</th>\n",
       "      <th>baseline_temp_f</th>\n",
       "      <th>fnthr_criteria</th>\n",
       "    </tr>\n",
       "  </thead>\n",
       "  <tbody>\n",
       "    <tr>\n",
       "      <th>0</th>\n",
       "      <td>113</td>\n",
       "      <td>55728</td>\n",
       "      <td>126688</td>\n",
       "      <td>218685</td>\n",
       "      <td>2192-02-11 20:10:00</td>\n",
       "      <td>2192-02-12 00:00:00</td>\n",
       "      <td>98.7</td>\n",
       "      <td>96.8</td>\n",
       "      <td>Temperature rise ≥1°C (1.8°F) above baseline</td>\n",
       "    </tr>\n",
       "    <tr>\n",
       "      <th>1</th>\n",
       "      <td>113</td>\n",
       "      <td>55728</td>\n",
       "      <td>126688</td>\n",
       "      <td>218685</td>\n",
       "      <td>2192-02-11 20:10:00</td>\n",
       "      <td>2192-02-11 22:00:00</td>\n",
       "      <td>98.6</td>\n",
       "      <td>96.8</td>\n",
       "      <td>Temperature rise ≥1°C (1.8°F) above baseline</td>\n",
       "    </tr>\n",
       "    <tr>\n",
       "      <th>2</th>\n",
       "      <td>3123</td>\n",
       "      <td>68629</td>\n",
       "      <td>128041</td>\n",
       "      <td>259191</td>\n",
       "      <td>2147-07-25 11:07:00</td>\n",
       "      <td>2147-07-25 16:00:00</td>\n",
       "      <td>99.5</td>\n",
       "      <td>97.5</td>\n",
       "      <td>Temperature rise ≥1°C (1.8°F) above baseline</td>\n",
       "    </tr>\n",
       "    <tr>\n",
       "      <th>3</th>\n",
       "      <td>3123</td>\n",
       "      <td>68629</td>\n",
       "      <td>128041</td>\n",
       "      <td>259191</td>\n",
       "      <td>2147-07-25 11:07:00</td>\n",
       "      <td>2147-07-25 12:00:00</td>\n",
       "      <td>100.2</td>\n",
       "      <td>97.5</td>\n",
       "      <td>Temperature rise ≥1°C (1.8°F) above baseline</td>\n",
       "    </tr>\n",
       "    <tr>\n",
       "      <th>4</th>\n",
       "      <td>4326</td>\n",
       "      <td>78182</td>\n",
       "      <td>104834</td>\n",
       "      <td>217022</td>\n",
       "      <td>2103-11-30 04:05:00</td>\n",
       "      <td>2103-11-30 08:00:00</td>\n",
       "      <td>100.4</td>\n",
       "      <td>99.6</td>\n",
       "      <td>Temperature ≥38°C (100.4°F)</td>\n",
       "    </tr>\n",
       "    <tr>\n",
       "      <th>...</th>\n",
       "      <td>...</td>\n",
       "      <td>...</td>\n",
       "      <td>...</td>\n",
       "      <td>...</td>\n",
       "      <td>...</td>\n",
       "      <td>...</td>\n",
       "      <td>...</td>\n",
       "      <td>...</td>\n",
       "      <td>...</td>\n",
       "    </tr>\n",
       "    <tr>\n",
       "      <th>8090</th>\n",
       "      <td>9994143</td>\n",
       "      <td>98476</td>\n",
       "      <td>161182</td>\n",
       "      <td>201485</td>\n",
       "      <td>2115-01-19 06:53:00</td>\n",
       "      <td>2115-01-19 10:55:00</td>\n",
       "      <td>95.4</td>\n",
       "      <td>93.5</td>\n",
       "      <td>Temperature rise ≥1°C (1.8°F) above baseline</td>\n",
       "    </tr>\n",
       "    <tr>\n",
       "      <th>8091</th>\n",
       "      <td>9999167</td>\n",
       "      <td>80342</td>\n",
       "      <td>160825</td>\n",
       "      <td>236675</td>\n",
       "      <td>2153-08-15 21:16:00</td>\n",
       "      <td>2153-08-16 00:00:00</td>\n",
       "      <td>103.8</td>\n",
       "      <td>102.6</td>\n",
       "      <td>Temperature ≥38°C (100.4°F)</td>\n",
       "    </tr>\n",
       "    <tr>\n",
       "      <th>8092</th>\n",
       "      <td>9999167</td>\n",
       "      <td>80342</td>\n",
       "      <td>160825</td>\n",
       "      <td>236675</td>\n",
       "      <td>2153-08-15 21:16:00</td>\n",
       "      <td>2153-08-15 22:00:00</td>\n",
       "      <td>103.4</td>\n",
       "      <td>102.6</td>\n",
       "      <td>Temperature ≥38°C (100.4°F)</td>\n",
       "    </tr>\n",
       "    <tr>\n",
       "      <th>8093</th>\n",
       "      <td>9999167</td>\n",
       "      <td>80342</td>\n",
       "      <td>160825</td>\n",
       "      <td>236675</td>\n",
       "      <td>2153-08-15 21:16:00</td>\n",
       "      <td>2153-08-16 01:00:00</td>\n",
       "      <td>104.7</td>\n",
       "      <td>102.6</td>\n",
       "      <td>Temperature ≥38°C (100.4°F)</td>\n",
       "    </tr>\n",
       "    <tr>\n",
       "      <th>8094</th>\n",
       "      <td>9999167</td>\n",
       "      <td>80342</td>\n",
       "      <td>160825</td>\n",
       "      <td>236675</td>\n",
       "      <td>2153-08-15 21:16:00</td>\n",
       "      <td>2153-08-15 23:00:00</td>\n",
       "      <td>103.7</td>\n",
       "      <td>102.6</td>\n",
       "      <td>Temperature ≥38°C (100.4°F)</td>\n",
       "    </tr>\n",
       "  </tbody>\n",
       "</table>\n",
       "<p>8095 rows × 9 columns</p>\n",
       "</div>"
      ],
      "text/plain": [
       "      linkorderid  subject_id  hadm_id  icustay_id transfusion_starttime  \\\n",
       "0             113       55728   126688      218685   2192-02-11 20:10:00   \n",
       "1             113       55728   126688      218685   2192-02-11 20:10:00   \n",
       "2            3123       68629   128041      259191   2147-07-25 11:07:00   \n",
       "3            3123       68629   128041      259191   2147-07-25 11:07:00   \n",
       "4            4326       78182   104834      217022   2103-11-30 04:05:00   \n",
       "...           ...         ...      ...         ...                   ...   \n",
       "8090      9994143       98476   161182      201485   2115-01-19 06:53:00   \n",
       "8091      9999167       80342   160825      236675   2153-08-15 21:16:00   \n",
       "8092      9999167       80342   160825      236675   2153-08-15 21:16:00   \n",
       "8093      9999167       80342   160825      236675   2153-08-15 21:16:00   \n",
       "8094      9999167       80342   160825      236675   2153-08-15 21:16:00   \n",
       "\n",
       "      temp_recorded_time  temperature_fahrenheit  baseline_temp_f  \\\n",
       "0    2192-02-12 00:00:00                    98.7             96.8   \n",
       "1    2192-02-11 22:00:00                    98.6             96.8   \n",
       "2    2147-07-25 16:00:00                    99.5             97.5   \n",
       "3    2147-07-25 12:00:00                   100.2             97.5   \n",
       "4    2103-11-30 08:00:00                   100.4             99.6   \n",
       "...                  ...                     ...              ...   \n",
       "8090 2115-01-19 10:55:00                    95.4             93.5   \n",
       "8091 2153-08-16 00:00:00                   103.8            102.6   \n",
       "8092 2153-08-15 22:00:00                   103.4            102.6   \n",
       "8093 2153-08-16 01:00:00                   104.7            102.6   \n",
       "8094 2153-08-15 23:00:00                   103.7            102.6   \n",
       "\n",
       "                                    fnthr_criteria  \n",
       "0     Temperature rise ≥1°C (1.8°F) above baseline  \n",
       "1     Temperature rise ≥1°C (1.8°F) above baseline  \n",
       "2     Temperature rise ≥1°C (1.8°F) above baseline  \n",
       "3     Temperature rise ≥1°C (1.8°F) above baseline  \n",
       "4                      Temperature ≥38°C (100.4°F)  \n",
       "...                                            ...  \n",
       "8090  Temperature rise ≥1°C (1.8°F) above baseline  \n",
       "8091                   Temperature ≥38°C (100.4°F)  \n",
       "8092                   Temperature ≥38°C (100.4°F)  \n",
       "8093                   Temperature ≥38°C (100.4°F)  \n",
       "8094                   Temperature ≥38°C (100.4°F)  \n",
       "\n",
       "[8095 rows x 9 columns]"
      ]
     },
     "execution_count": 6,
     "metadata": {},
     "output_type": "execute_result"
    }
   ],
   "source": [
    "# get the types of items that can be administered to a patient\n",
    "\n",
    "with open(f\"{query_path}/FNHTR/fnhtr_temps.sql\", 'r') as file:\n",
    "    FNHRT_temps_read = file.read()\n",
    "\n",
    "FNHRT_temps_result = client.query(FNHRT_temps_read).to_dataframe()\n",
    "FNHRT_temps_result\n",
    "\n",
    "\n"
   ]
  },
  {
   "cell_type": "code",
   "execution_count": 17,
   "metadata": {},
   "outputs": [
    {
     "data": {
      "text/plain": [
       "1265"
      ]
     },
     "execution_count": 17,
     "metadata": {},
     "output_type": "execute_result"
    }
   ],
   "source": [
    "#Check unique patients\n",
    "unique_patients = FNHRT_temps_result.drop_duplicates(subset=['subject_id']).reset_index(drop=True)\n",
    "len(unique_patients)\n"
   ]
  },
  {
   "cell_type": "code",
   "execution_count": 18,
   "metadata": {},
   "outputs": [
    {
     "data": {
      "text/plain": [
       "3913"
      ]
     },
     "execution_count": 18,
     "metadata": {},
     "output_type": "execute_result"
    }
   ],
   "source": [
    "#Check tranfusion events\n",
    "unique_tranfusions = FNHRT_temps_result.drop_duplicates(subset=['linkorderid']).reset_index(drop=True)\n",
    "len(unique_tranfusions)"
   ]
  },
  {
   "cell_type": "code",
   "execution_count": 19,
   "metadata": {},
   "outputs": [
    {
     "name": "stderr",
     "output_type": "stream",
     "text": [
      "/home/tyx1999120755/.pyenv/versions/3.12.7/envs/transfusion/lib/python3.12/site-packages/google/cloud/bigquery/table.py:1727: UserWarning: BigQuery Storage module not found, fetch data with the REST endpoint instead.\n",
      "  warnings.warn(\n"
     ]
    },
    {
     "data": {
      "text/html": [
       "<div>\n",
       "<style scoped>\n",
       "    .dataframe tbody tr th:only-of-type {\n",
       "        vertical-align: middle;\n",
       "    }\n",
       "\n",
       "    .dataframe tbody tr th {\n",
       "        vertical-align: top;\n",
       "    }\n",
       "\n",
       "    .dataframe thead th {\n",
       "        text-align: right;\n",
       "    }\n",
       "</style>\n",
       "<table border=\"1\" class=\"dataframe\">\n",
       "  <thead>\n",
       "    <tr style=\"text-align: right;\">\n",
       "      <th></th>\n",
       "      <th>total_unique_patients</th>\n",
       "    </tr>\n",
       "  </thead>\n",
       "  <tbody>\n",
       "    <tr>\n",
       "      <th>0</th>\n",
       "      <td>46520</td>\n",
       "    </tr>\n",
       "  </tbody>\n",
       "</table>\n",
       "</div>"
      ],
      "text/plain": [
       "   total_unique_patients\n",
       "0                  46520"
      ]
     },
     "execution_count": 19,
     "metadata": {},
     "output_type": "execute_result"
    }
   ],
   "source": [
    "# get the types of items that can be administered to a patient\n",
    "\n",
    "with open(f\"{query_path}/FNHTR/total_patients.sql\", 'r') as file:\n",
    "    total_patients_read = file.read()\n",
    "\n",
    "total_patients_result = client.query(total_patients_read).to_dataframe()\n",
    "total_patients_result\n",
    "\n",
    "\n"
   ]
  },
  {
   "cell_type": "code",
   "execution_count": 7,
   "metadata": {},
   "outputs": [
    {
     "data": {
      "image/png": "[encoded data removed]",
      "text/plain": [
       "<Figure size 1000x600 with 1 Axes>"
      ]
     },
     "metadata": {},
     "output_type": "display_data"
    }
   ],
   "source": [
    "import matplotlib.pyplot as plt\n",
    "\n",
    "# Updated Data\n",
    "categories = [\"Total Transfusions\", \"Unique Transfusion Reactions\", \"Unique Patients\"]\n",
    "values = [32818, 3913, 1265]\n",
    "\n",
    "# Calculate percentages\n",
    "reaction_percentage = (values[1] / values[0]) * 100  # Percentage of unique transfusion reactions\n",
    "patient_percentage = (values[2] / 46520) * 100  # Percentage of unique patients relative to reactions\n",
    "\n",
    "# Format values with percentages\n",
    "labels = [\n",
    "    \"Total Transfusions\",\n",
    "    f\"Unique Transfusion Reactions by temperature ({reaction_percentage:.2f}%)\",\n",
    "    f\"Unique Patients ({patient_percentage:.2f}%)\"\n",
    "]\n",
    "\n",
    "# Visualization\n",
    "plt.figure(figsize=(10, 6))\n",
    "plt.bar(categories, values, color=['blue', 'orange', 'green'])\n",
    "plt.title(\"Transfusion Analysis\", fontsize=16)\n",
    "plt.ylabel(\"Count\", fontsize=12)\n",
    "plt.xticks(categories, labels, rotation=15, fontsize=10)\n",
    "plt.tight_layout()\n",
    "plt.show()\n"
   ]
  }
 ],
 "metadata": {
  "kernelspec": {
   "display_name": "transfusion",
   "language": "python",
   "name": "python3"
  },
  "language_info": {
   "codemirror_mode": {
    "name": "ipython",
    "version": 3
   },
   "file_extension": ".py",
   "mimetype": "text/x-python",
   "name": "python",
   "nbconvert_exporter": "python",
   "pygments_lexer": "ipython3",
   "version": "3.12.7"
  }
 },
 "nbformat": 4,
 "nbformat_minor": 2
}
