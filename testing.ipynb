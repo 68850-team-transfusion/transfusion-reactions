{
 "cells": [
  {
   "cell_type": "code",
   "execution_count": 4,
   "metadata": {},
   "outputs": [
    {
     "name": "stdout",
     "output_type": "stream",
     "text": [
      "transfusion-reactions\n"
     ]
    }
   ],
   "source": [
    "from dotenv import load_dotenv\n",
    "import os\n",
    "\n",
    "load_dotenv()\n",
    "print(os.environ.get('BIGQUERY_PROJECT_NAME'))"
   ]
  },
  {
   "cell_type": "code",
   "execution_count": 6,
   "metadata": {},
   "outputs": [
    {
     "name": "stdout",
     "output_type": "stream",
     "text": [
      "  age_group gender  NumberOfPatients\n",
      "0       >89      F              1294\n",
      "1     adult      F             15476\n",
      "2   neonate      F              3629\n",
      "3     adult      M             21179\n",
      "4       >89      M               697\n",
      "5   neonate      M              4245\n"
     ]
    },
    {
     "name": "stderr",
     "output_type": "stream",
     "text": [
      "/home/kmorhun/.pyenv/versions/3.12.7/envs/transfusion/lib/python3.12/site-packages/google/cloud/bigquery/table.py:1727: UserWarning: BigQuery Storage module not found, fetch data with the REST endpoint instead.\n",
      "  warnings.warn(\n"
     ]
    }
   ],
   "source": [
    "from google.cloud import bigquery\n",
    "\n",
    "client = bigquery.Client(os.environ.get('BIGQUERY_PROJECT_NAME'))\n",
    "query = \"\"\"WITH first_admission_time AS\n",
    "(\n",
    "  SELECT\n",
    "      p.subject_id, p.dob, p.gender\n",
    "      , MIN (a.admittime) AS first_admittime\n",
    "      , MIN( DATETIME_DIFF(admittime, dob, YEAR) )\n",
    "          AS first_admit_age\n",
    "  FROM `physionet-data.mimiciii_clinical.patients` p\n",
    "  INNER JOIN `physionet-data.mimiciii_clinical.admissions` a\n",
    "  ON p.subject_id = a.subject_id\n",
    "  GROUP BY p.subject_id, p.dob, p.gender\n",
    "  ORDER BY p.subject_id\n",
    ")\n",
    ", age as\n",
    "(\n",
    "  SELECT\n",
    "      subject_id, dob, gender\n",
    "      , first_admittime, first_admit_age\n",
    "      , CASE\n",
    "          -- all ages > 89 in the database were replaced with 300\n",
    "          WHEN first_admit_age > 89\n",
    "              then '>89'\n",
    "          WHEN first_admit_age >= 14\n",
    "              THEN 'adult'\n",
    "          WHEN first_admit_age <= 1\n",
    "              THEN 'neonate'\n",
    "          ELSE 'middle'\n",
    "          END AS age_group\n",
    "  FROM first_admission_time\n",
    ")\n",
    "select age_group, gender\n",
    "  , count(subject_id) as NumberOfPatients\n",
    "from age\n",
    "group by age_group, gender\"\"\"\n",
    "results = client.query(query).to_dataframe()\n",
    "print(results)"
   ]
  }
 ],
 "metadata": {
  "kernelspec": {
   "display_name": "Python 3",
   "language": "python",
   "name": "python3"
  },
  "language_info": {
   "codemirror_mode": {
    "name": "ipython",
    "version": 3
   },
   "file_extension": ".py",
   "mimetype": "text/x-python",
   "name": "python",
   "nbconvert_exporter": "python",
   "pygments_lexer": "ipython3",
   "version": "3.12.7"
  }
 },
 "nbformat": 4,
 "nbformat_minor": 2
}
